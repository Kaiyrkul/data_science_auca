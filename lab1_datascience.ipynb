{
  "nbformat": 4,
  "nbformat_minor": 0,
  "metadata": {
    "colab": {
      "provenance": [],
      "mount_file_id": "13oeGyLnST2dbbIQEvISt_IG9zShyiZRe",
      "authorship_tag": "ABX9TyPQbXnK+dBYSUCKPxInr/3m",
      "include_colab_link": true
    },
    "kernelspec": {
      "name": "python3",
      "display_name": "Python 3"
    },
    "language_info": {
      "name": "python"
    }
  },
  "cells": [
    {
      "cell_type": "markdown",
      "metadata": {
        "id": "view-in-github",
        "colab_type": "text"
      },
      "source": [
        "<a href=\"https://colab.research.google.com/github/Kaiyrkul/data_science_auca/blob/main/lab1_datascience.ipynb\" target=\"_parent\"><img src=\"https://colab.research.google.com/assets/colab-badge.svg\" alt=\"Open In Colab\"/></a>"
      ]
    },
    {
      "cell_type": "code",
      "execution_count": null,
      "metadata": {
        "colab": {
          "base_uri": "https://localhost:8080/"
        },
        "id": "inIMW0bj4A3q",
        "outputId": "ad0fc749-adde-4409-b69f-ea24d651ba34"
      },
      "outputs": [
        {
          "output_type": "stream",
          "name": "stdout",
          "text": [
            "Enter n: 3\n",
            "Name Age Score\n",
            "  Name  Age  Score\n",
            "Andrew   12   88.3\n",
            "   Ben   15   92.6\n",
            " Carol   16   89.7\n",
            "\n",
            "Maximum age: 16\n",
            "Enter deduction p: 1.5\n",
            "\n",
            "Updated DataFrame:\n",
            "  Name  Age  Score\n",
            "Andrew   12   88.5\n",
            "   Ben   15   91.5\n",
            " Carol   16   90.0\n",
            "Daniel   10   78.0\n",
            "Mean Score: 87.0\n",
            "Median Score: 89.25\n",
            "\n",
            "Filtered DataFrame:\n",
            "  Name  Age  Score\n",
            "Andrew   12   88.5\n",
            "   Ben   15   91.5\n",
            "Mean Score in Filtered DataFrame: 90.0\n",
            "Median Score: 90.0\n"
          ]
        }
      ],
      "source": [
        "import pandas as pd\n",
        "import numpy as np\n",
        "\n",
        "def round_to_half_point(x):\n",
        "    \"\"\"\n",
        "    Функция для округления числа до ближайшей половины,\n",
        "    соответствующая требованиям задания.\n",
        "    \"\"\"\n",
        "    if x - int(x) > 0.5:\n",
        "        return np.ceil(x)\n",
        "    elif x - int(x) == 0.5:\n",
        "        return x\n",
        "    else:\n",
        "        return np.floor(x) + 0.5 if x - int(x) > 0 else np.floor(x)\n",
        "\n",
        "try:\n",
        "    # 2. Чтение n чисел из ages.txt\n",
        "    n_str = input(\"Enter n: \").strip()\n",
        "    n = int(n_str)\n",
        "\n",
        "    with open('ages.txt', 'r') as f:\n",
        "        content = f.read()\n",
        "\n",
        "    ages_str = content.split(',')\n",
        "\n",
        "    # 3. Преобразование в числа и округление до наименьшего целого\n",
        "    ages = [int(float(age)) for age in ages_str[:n]]\n",
        "\n",
        "    # 4. и 5. Чтение данных из scores.csv в словарь\n",
        "    df_scores = pd.read_csv('scores.csv')\n",
        "    dic = df_scores.to_dict('list')\n",
        "\n",
        "    # 6. Добавление списка ages в словарь\n",
        "    dic['Age'] = ages\n",
        "\n",
        "    # 7. Преобразование словаря в DataFrame и вывод\n",
        "    df = pd.DataFrame(dic, columns=['Name', 'Age', 'Score'])\n",
        "    print(\"Name Age Score\")\n",
        "    print(df.to_string(index=False))\n",
        "\n",
        "    # 8. Выбор столбца 'Age' и поиск максимального значения\n",
        "    max_age = df['Age'].max()\n",
        "    print(f\"\\nMaximum age: {max_age}\")\n",
        "\n",
        "    # 9. Добавление новой строки\n",
        "    df.loc[len(df.index)] = ['Daniel', 10, 78.0]\n",
        "\n",
        "    # 10. Модификация значения 'Score' во второй строке\n",
        "    deduction_str = input(\"Enter deduction p: \").strip()\n",
        "    p = float(deduction_str)\n",
        "    df.loc[1, 'Score'] -= p\n",
        "\n",
        "    # 11. Округление значений в столбце 'Score'\n",
        "    df['Score'] = df['Score'].apply(round_to_half_point)\n",
        "\n",
        "    # 12. Вывод обновленного DataFrame, среднего и медианы\n",
        "    print(\"\\nUpdated DataFrame:\")\n",
        "    print(df.to_string(index=False))\n",
        "\n",
        "    mean_score = df['Score'].mean()\n",
        "    median_score = df['Score'].median()\n",
        "    print(f\"Mean Score: {mean_score}\")\n",
        "    print(f\"Median Score: {median_score}\")\n",
        "\n",
        "    # 13. Создание отфильтрованного DataFrame\n",
        "    df_filtered = df[(df['Age'] >= 12) & (df['Age'] <= 15)].copy()\n",
        "    print(\"\\nFiltered DataFrame:\")\n",
        "    print(df_filtered.to_string(index=False))\n",
        "\n",
        "    # 14. Нахождение среднего и медианы в отфильтрованном DataFrame\n",
        "    mean_filtered = df_filtered['Score'].mean()\n",
        "    median_filtered = df_filtered['Score'].median()\n",
        "    print(f\"Mean Score in Filtered DataFrame: {mean_filtered}\")\n",
        "    print(f\"Median Score: {median_filtered}\")\n",
        "\n",
        "except FileNotFoundError:\n",
        "    print(\"Error: scores.csv or ages.txt not found. Please make sure the files are in the same directory as the script.\")\n",
        "except ValueError:\n",
        "    print(\"Error: Invalid input. Please enter a number.\")\n",
        "except Exception as e:\n",
        "    print(f\"An unexpected error occurred: {e}\")"
      ]
    }
  ]
}